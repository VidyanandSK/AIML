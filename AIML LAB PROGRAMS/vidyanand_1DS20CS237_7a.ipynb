{
 "cells": [
  {
   "cell_type": "code",
   "execution_count": 32,
   "id": "e9ec807c",
   "metadata": {},
   "outputs": [],
   "source": [
    "import numpy as np\n",
    "from functools import reduce\n",
    "def perceptron(weight, bias, x):\n",
    "    model=np.add(np.dot(x, weight), bias)\n",
    "    print('model: {}'.format(model))\n",
    "    logit = 1/(1+np.exp(-model))\n",
    "    print('Type: {}'.format(logit))\n",
    "    return np.round(logit)"
   ]
  },
  {
   "cell_type": "code",
   "execution_count": 33,
   "id": "b67b8693",
   "metadata": {},
   "outputs": [],
   "source": [
    "def compute(logictype, weightdict, dataset):\n",
    "    weights = np.array([ weightdict[logictype][w] for w in weightdict[logictype].keys()])\n",
    "    output = np.array([ perceptron(weights, weightdict['bias'][logictype], val) for val in dataset])\n",
    "    print(logictype)\n",
    "    return logictype, output"
   ]
  },
  {
   "cell_type": "code",
   "execution_count": 29,
   "id": "d8e0d126",
   "metadata": {},
   "outputs": [],
   "source": [
    "def main():\n",
    "    logic = {\n",
    "    'logic_and':{'w0':-0.1,'w1':0.2,'w2':0.2},\n",
    "    'logic_nand':{'w0':0.6,'w1':-0.8,'w2':-0.8},\n",
    "    'bias':{'logic_and':-0.2,'logic_nand':0.3,}}\n",
    "    dataset = np.array([[1,0,0],[1,0,1],[1,1,0],[1,1,1]])\n",
    "    logic_and=compute('logic_and',logic, dataset)\n",
    "    logic_nand=compute('logic_nand',logic, dataset)\n",
    "    \n",
    "    def template(dataset, name, data):\n",
    "        print(\"Logic Function: {}\".format(name[6:].upper()))\n",
    "        print(\"X0\\tX1\\tX2\\tY\")\n",
    "        to_print= [\"{1}\\t{2}\\t{3}\\t{0}\".format(output, *datas) for datas, output in zip(dataset, data)]\n",
    "        for i in to_print:\n",
    "            print(i)\n",
    "    gates=[logic_and,logic_nand]\n",
    "    for i in gates:\n",
    "        template(dataset, *i)"
   ]
  },
  {
   "cell_type": "code",
   "execution_count": 30,
   "id": "8e21fa47",
   "metadata": {},
   "outputs": [
    {
     "name": "stdout",
     "output_type": "stream",
     "text": [
      "model: -0.30000000000000004\n",
      "Type: 0.425557483188341\n",
      "model: -0.1\n",
      "Type: 0.47502081252106\n",
      "model: -0.1\n",
      "Type: 0.47502081252106\n",
      "model: 0.10000000000000003\n",
      "Type: 0.52497918747894\n",
      "logic_and\n",
      "model: 0.8999999999999999\n",
      "Type: 0.7109495026250039\n",
      "model: 0.09999999999999992\n",
      "Type: 0.5249791874789399\n",
      "model: 0.09999999999999992\n",
      "Type: 0.5249791874789399\n",
      "model: -0.7\n",
      "Type: 0.3318122278318339\n",
      "logic_nand\n",
      "Logic Function: AND\n",
      "X0\tX1\tX2\tY\n",
      "1\t0\t0\tNone\n",
      "1\t0\t1\tNone\n",
      "1\t1\t0\tNone\n",
      "1\t1\t1\tNone\n",
      "Logic Function: NAND\n",
      "X0\tX1\tX2\tY\n",
      "1\t0\t0\tNone\n",
      "1\t0\t1\tNone\n",
      "1\t1\t0\tNone\n",
      "1\t1\t1\tNone\n"
     ]
    }
   ],
   "source": [
    "if __name__ == '__main__':\n",
    "    main()\n",
    "    "
   ]
  }
 ],
 "metadata": {
  "kernelspec": {
   "display_name": "Python 3 (ipykernel)",
   "language": "python",
   "name": "python3"
  },
  "language_info": {
   "codemirror_mode": {
    "name": "ipython",
    "version": 3
   },
   "file_extension": ".py",
   "mimetype": "text/x-python",
   "name": "python",
   "nbconvert_exporter": "python",
   "pygments_lexer": "ipython3",
   "version": "3.9.12"
  }
 },
 "nbformat": 4,
 "nbformat_minor": 5
}
