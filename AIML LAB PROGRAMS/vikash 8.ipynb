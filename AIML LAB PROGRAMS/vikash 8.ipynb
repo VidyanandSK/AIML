{
 "cells": [
  {
   "cell_type": "code",
   "execution_count": 1,
   "id": "65034647",
   "metadata": {},
   "outputs": [
    {
     "data": {
      "text/html": [
       "<div>\n",
       "<style scoped>\n",
       "    .dataframe tbody tr th:only-of-type {\n",
       "        vertical-align: middle;\n",
       "    }\n",
       "\n",
       "    .dataframe tbody tr th {\n",
       "        vertical-align: top;\n",
       "    }\n",
       "\n",
       "    .dataframe thead th {\n",
       "        text-align: right;\n",
       "    }\n",
       "</style>\n",
       "<table border=\"1\" class=\"dataframe\">\n",
       "  <thead>\n",
       "    <tr style=\"text-align: right;\">\n",
       "      <th></th>\n",
       "      <th>6</th>\n",
       "      <th>148</th>\n",
       "      <th>72</th>\n",
       "      <th>35</th>\n",
       "      <th>0</th>\n",
       "      <th>33.6</th>\n",
       "      <th>0.627</th>\n",
       "      <th>50</th>\n",
       "      <th>1</th>\n",
       "    </tr>\n",
       "  </thead>\n",
       "  <tbody>\n",
       "    <tr>\n",
       "      <th>0</th>\n",
       "      <td>1</td>\n",
       "      <td>85</td>\n",
       "      <td>66</td>\n",
       "      <td>29</td>\n",
       "      <td>0</td>\n",
       "      <td>26.6</td>\n",
       "      <td>0.351</td>\n",
       "      <td>31</td>\n",
       "      <td>0</td>\n",
       "    </tr>\n",
       "    <tr>\n",
       "      <th>1</th>\n",
       "      <td>8</td>\n",
       "      <td>183</td>\n",
       "      <td>64</td>\n",
       "      <td>0</td>\n",
       "      <td>0</td>\n",
       "      <td>23.3</td>\n",
       "      <td>0.672</td>\n",
       "      <td>32</td>\n",
       "      <td>1</td>\n",
       "    </tr>\n",
       "    <tr>\n",
       "      <th>2</th>\n",
       "      <td>1</td>\n",
       "      <td>89</td>\n",
       "      <td>66</td>\n",
       "      <td>23</td>\n",
       "      <td>94</td>\n",
       "      <td>28.1</td>\n",
       "      <td>0.167</td>\n",
       "      <td>21</td>\n",
       "      <td>0</td>\n",
       "    </tr>\n",
       "    <tr>\n",
       "      <th>3</th>\n",
       "      <td>0</td>\n",
       "      <td>137</td>\n",
       "      <td>40</td>\n",
       "      <td>35</td>\n",
       "      <td>168</td>\n",
       "      <td>43.1</td>\n",
       "      <td>2.288</td>\n",
       "      <td>33</td>\n",
       "      <td>1</td>\n",
       "    </tr>\n",
       "    <tr>\n",
       "      <th>4</th>\n",
       "      <td>5</td>\n",
       "      <td>116</td>\n",
       "      <td>74</td>\n",
       "      <td>0</td>\n",
       "      <td>0</td>\n",
       "      <td>25.6</td>\n",
       "      <td>0.201</td>\n",
       "      <td>30</td>\n",
       "      <td>0</td>\n",
       "    </tr>\n",
       "  </tbody>\n",
       "</table>\n",
       "</div>"
      ],
      "text/plain": [
       "   6  148  72  35    0  33.6  0.627  50  1\n",
       "0  1   85  66  29    0  26.6  0.351  31  0\n",
       "1  8  183  64   0    0  23.3  0.672  32  1\n",
       "2  1   89  66  23   94  28.1  0.167  21  0\n",
       "3  0  137  40  35  168  43.1  2.288  33  1\n",
       "4  5  116  74   0    0  25.6  0.201  30  0"
      ]
     },
     "execution_count": 1,
     "metadata": {},
     "output_type": "execute_result"
    }
   ],
   "source": [
    "from numpy import loadtxt\n",
    "import numpy as np\n",
    "import pandas as pd\n",
    "from keras import models\n",
    "from keras.models import Sequential\n",
    "from keras.layers import Dense\n",
    "from keras import layers\n",
    "from sklearn.model_selection import train_test_split\n",
    "from sklearn import preprocessing\n",
    "import matplotlib.pyplot as plt\n",
    "dataframe=pd.read_csv('pima-indians-diabetes.csv',delimiter=',')\n",
    "dataframe.head()\n"
   ]
  },
  {
   "cell_type": "code",
   "execution_count": 2,
   "id": "a2f51c1a",
   "metadata": {},
   "outputs": [
    {
     "data": {
      "text/plain": [
       "(767, 9)"
      ]
     },
     "execution_count": 2,
     "metadata": {},
     "output_type": "execute_result"
    }
   ],
   "source": [
    "X=dataframe.iloc[:,:8]\n",
    "y=dataframe.iloc[:,8]\n",
    "dataframe.shape\n"
   ]
  },
  {
   "cell_type": "code",
   "execution_count": 3,
   "id": "84592baf",
   "metadata": {},
   "outputs": [],
   "source": [
    "features_train,features_test,target_train,target_test=train_test_split(X,y,\n",
    "test_size=0.33,random_state=0)\n"
   ]
  },
  {
   "cell_type": "code",
   "execution_count": 5,
   "id": "f4312dce",
   "metadata": {},
   "outputs": [],
   "source": [
    "network=models.Sequential()\n",
    "network.add(Dense(units=8,activation=\"relu\",input_shape=(features_train.shape[1],)))\n",
    "network.add(Dense(units=8,activation=\"relu\"))\n"
   ]
  },
  {
   "cell_type": "code",
   "execution_count": 6,
   "id": "495f2dbb",
   "metadata": {},
   "outputs": [],
   "source": [
    "network.add(Dense(units=1,activation=\"sigmoid\"))"
   ]
  },
  {
   "cell_type": "code",
   "execution_count": 7,
   "id": "3a8deb75",
   "metadata": {},
   "outputs": [],
   "source": [
    "network.compile(loss='binary_crossentropy',optimizer='adam',metrics=['accuracy'])\n"
   ]
  },
  {
   "cell_type": "code",
   "execution_count": 9,
   "id": "783c4699",
   "metadata": {},
   "outputs": [
    {
     "name": "stdout",
     "output_type": "stream",
     "text": [
      "Epoch 1/20\n",
      "6/6 [==============================] - 1s 54ms/step - loss: 16.8979 - accuracy: 0.3684 - val_loss: 17.0751 - val_accuracy: 0.3071\n",
      "Epoch 2/20\n",
      "6/6 [==============================] - 0s 8ms/step - loss: 15.2065 - accuracy: 0.3684 - val_loss: 15.2690 - val_accuracy: 0.2992\n",
      "Epoch 3/20\n",
      "6/6 [==============================] - 0s 7ms/step - loss: 13.5663 - accuracy: 0.3684 - val_loss: 13.5498 - val_accuracy: 0.3071\n",
      "Epoch 4/20\n",
      "6/6 [==============================] - 0s 7ms/step - loss: 12.0422 - accuracy: 0.3665 - val_loss: 11.9543 - val_accuracy: 0.3268\n",
      "Epoch 5/20\n",
      "6/6 [==============================] - 0s 7ms/step - loss: 10.6312 - accuracy: 0.3684 - val_loss: 10.5256 - val_accuracy: 0.3661\n",
      "Epoch 6/20\n",
      "6/6 [==============================] - 0s 7ms/step - loss: 9.3302 - accuracy: 0.3762 - val_loss: 9.2575 - val_accuracy: 0.3622\n",
      "Epoch 7/20\n",
      "6/6 [==============================] - 0s 6ms/step - loss: 8.2990 - accuracy: 0.3899 - val_loss: 8.1666 - val_accuracy: 0.3858\n",
      "Epoch 8/20\n",
      "6/6 [==============================] - 0s 6ms/step - loss: 7.3958 - accuracy: 0.4094 - val_loss: 7.2449 - val_accuracy: 0.4134\n",
      "Epoch 9/20\n",
      "6/6 [==============================] - 0s 7ms/step - loss: 6.6631 - accuracy: 0.4269 - val_loss: 6.4591 - val_accuracy: 0.4370\n",
      "Epoch 10/20\n",
      "6/6 [==============================] - 0s 7ms/step - loss: 6.0734 - accuracy: 0.4347 - val_loss: 5.7994 - val_accuracy: 0.4606\n",
      "Epoch 11/20\n",
      "6/6 [==============================] - 0s 6ms/step - loss: 5.5790 - accuracy: 0.4522 - val_loss: 5.2167 - val_accuracy: 0.4803\n",
      "Epoch 12/20\n",
      "6/6 [==============================] - 0s 7ms/step - loss: 5.1668 - accuracy: 0.4834 - val_loss: 4.7104 - val_accuracy: 0.4882\n",
      "Epoch 13/20\n",
      "6/6 [==============================] - 0s 6ms/step - loss: 4.7730 - accuracy: 0.5049 - val_loss: 4.3029 - val_accuracy: 0.4961\n",
      "Epoch 14/20\n",
      "6/6 [==============================] - 0s 7ms/step - loss: 4.4443 - accuracy: 0.5127 - val_loss: 3.9475 - val_accuracy: 0.5039\n",
      "Epoch 15/20\n",
      "6/6 [==============================] - 0s 7ms/step - loss: 4.1783 - accuracy: 0.5166 - val_loss: 3.5852 - val_accuracy: 0.5157\n",
      "Epoch 16/20\n",
      "6/6 [==============================] - 0s 7ms/step - loss: 3.8895 - accuracy: 0.5205 - val_loss: 3.2789 - val_accuracy: 0.5157\n",
      "Epoch 17/20\n",
      "6/6 [==============================] - 0s 6ms/step - loss: 3.6408 - accuracy: 0.5107 - val_loss: 3.0134 - val_accuracy: 0.5236\n",
      "Epoch 18/20\n",
      "6/6 [==============================] - 0s 7ms/step - loss: 3.4244 - accuracy: 0.5127 - val_loss: 2.7828 - val_accuracy: 0.5394\n",
      "Epoch 19/20\n",
      "6/6 [==============================] - 0s 7ms/step - loss: 3.1858 - accuracy: 0.5185 - val_loss: 2.5669 - val_accuracy: 0.5433\n",
      "Epoch 20/20\n",
      "6/6 [==============================] - 0s 7ms/step - loss: 2.9971 - accuracy: 0.5185 - val_loss: 2.3800 - val_accuracy: 0.5787\n"
     ]
    }
   ],
   "source": [
    "history=network.fit(features_train,target_train,epochs=20,verbose=1,batch_size=100,validation_data=(features_test,target_test))\n"
   ]
  },
  {
   "cell_type": "code",
   "execution_count": 10,
   "id": "0fd95e6d",
   "metadata": {},
   "outputs": [
    {
     "data": {
      "image/png": "[encoded data removed]",
      "text/plain": [
       "<Figure size 640x480 with 1 Axes>"
      ]
     },
     "metadata": {},
     "output_type": "display_data"
    }
   ],
   "source": [
    "training_loss=history.history[\"loss\"]\n",
    "test_loss=history.history[\"val_loss\"]\n",
    "epoch_count=range(1,len(training_loss)+1)\n",
    "plt.plot(epoch_count,training_loss,\"r--\")\n",
    "plt.plot(epoch_count,test_loss,\"b-\")\n",
    "plt.legend([\"Training Loss\",\"Test Loss\"])\n",
    "plt.xlabel(\"Epoch\")\n",
    "plt.ylabel(\"Loss\")\n",
    "plt.show()\n"
   ]
  },
  {
   "cell_type": "code",
   "execution_count": 11,
   "id": "415ab3c0",
   "metadata": {},
   "outputs": [
    {
     "name": "stdout",
     "output_type": "stream",
     "text": [
      "17/17 [==============================] - 0s 1ms/step - loss: 2.8642 - accuracy: 0.5244\n"
     ]
    }
   ],
   "source": [
    "_,accuracy=network.evaluate(features_train,target_train)\n"
   ]
  },
  {
   "cell_type": "code",
   "execution_count": 12,
   "id": "27520cfd",
   "metadata": {},
   "outputs": [
    {
     "name": "stdout",
     "output_type": "stream",
     "text": [
      "Accuracy: 52.44\n"
     ]
    }
   ],
   "source": [
    "print('Accuracy: %.2f'%(accuracy*100))\n"
   ]
  },
  {
   "cell_type": "code",
   "execution_count": 13,
   "id": "a65cc9f4",
   "metadata": {},
   "outputs": [
    {
     "name": "stdout",
     "output_type": "stream",
     "text": [
      "8/8 [==============================] - 0s 914us/step\n",
      "8/8 [==============================] - 0s 1ms/step - loss: 2.3800 - accuracy: 0.5787\n",
      "Accuracy: 57.87\n"
     ]
    }
   ],
   "source": [
    "predicted_target=network.predict(features_test)\n",
    "_,accuracy=network.evaluate(features_test,target_test)\n",
    "print('Accuracy: %.2f'%(accuracy*100))"
   ]
  },
  {
   "cell_type": "code",
   "execution_count": 18,
   "id": "506f87de",
   "metadata": {},
   "outputs": [
    {
     "name": "stdout",
     "output_type": "stream",
     "text": [
      "[7.191623e-06]\n",
      "[0.9985413]\n",
      "[6.286535e-07]\n",
      "[0.8603236]\n",
      "[0.00020826]\n",
      "[0.99608254]\n",
      "[0.9950301]\n",
      "[0.7614767]\n",
      "[0.00223065]\n",
      "[0.4547817]\n"
     ]
    }
   ],
   "source": [
    "for i in range(10):\n",
    "    print(predicted_target[i])\n"
   ]
  },
  {
   "cell_type": "code",
   "execution_count": 19,
   "id": "651e1cc5",
   "metadata": {},
   "outputs": [
    {
     "data": {
      "image/png": "[encoded data removed]",
      "text/plain": [
       "<Figure size 640x480 with 1 Axes>"
      ]
     },
     "metadata": {},
     "output_type": "display_data"
    }
   ],
   "source": [
    "training_accuracy=history.history[\"accuracy\"]\n",
    "test_accuracy=history.history[\"val_accuracy\"]\n",
    "plt.plot(epoch_count,training_accuracy,\"r--\")\n",
    "plt.plot(epoch_count,test_accuracy,\"b-\")\n",
    "plt.legend([\"Training Accuracy\",\"Test Accuracy\"])\n",
    "plt.xlabel(\"Epoch\")\n",
    "plt.ylabel(\"Accuracy Score\")\n",
    "plt.show()"
   ]
  },
  {
   "cell_type": "code",
   "execution_count": null,
   "id": "f37e69aa",
   "metadata": {},
   "outputs": [],
   "source": []
  }
 ],
 "metadata": {
  "kernelspec": {
   "display_name": "Python 3 (ipykernel)",
   "language": "python",
   "name": "python3"
  },
  "language_info": {
   "codemirror_mode": {
    "name": "ipython",
    "version": 3
   },
   "file_extension": ".py",
   "mimetype": "text/x-python",
   "name": "python",
   "nbconvert_exporter": "python",
   "pygments_lexer": "ipython3",
   "version": "3.9.15"
  }
 },
 "nbformat": 4,
 "nbformat_minor": 5
}
